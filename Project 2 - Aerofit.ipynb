{
 "cells": [
  {
   "cell_type": "markdown",
   "id": "3b2e63d7",
   "metadata": {},
   "source": [
    "<b> Aerofit sells 3 types of treadmills belonging to 3 tiers: <br>\n",
    "    \n",
    "Entry-level - <b>KP281<b> - $1,500\n",
    "\n",
    "Mid-level - <b>KP481<b> - $1,750\n",
    "\n",
    "Advanced - <b>KP781<b> - $2,500"
   ]
  },
  {
   "cell_type": "markdown",
   "id": "bfeb05cd",
   "metadata": {},
   "source": [
    "<b> The purpose of this research is to help Aerofit identify the target audience for each type of treadmill offered by the company in order to better understand what type of treadmill would a new user prefer."
   ]
  },
  {
   "cell_type": "code",
   "execution_count": 1,
   "id": "3da7e26e",
   "metadata": {},
   "outputs": [],
   "source": [
    "#importing the libraries\n",
    "import pandas as pd\n",
    "import numpy as np\n",
    "import matplotlib.pyplot as plt\n",
    "import seaborn as sns\n",
    "import math\n",
    "from collections import Counter\n",
    "from scipy.stats import mode"
   ]
  },
  {
   "cell_type": "code",
   "execution_count": 2,
   "id": "70959f67",
   "metadata": {},
   "outputs": [],
   "source": [
    "#reading the dataset from the given URL\n",
    "df = pd. read_csv('https://d2beiqkhq929f0.cloudfront.net/public_assets/assets/000/001/125/original/aerofit_treadmill.csv?1639992749')\n"
   ]
  },
  {
   "cell_type": "code",
   "execution_count": 3,
   "id": "392aca1e",
   "metadata": {},
   "outputs": [
    {
     "data": {
      "text/html": [
       "<div>\n",
       "<style scoped>\n",
       "    .dataframe tbody tr th:only-of-type {\n",
       "        vertical-align: middle;\n",
       "    }\n",
       "\n",
       "    .dataframe tbody tr th {\n",
       "        vertical-align: top;\n",
       "    }\n",
       "\n",
       "    .dataframe thead th {\n",
       "        text-align: right;\n",
       "    }\n",
       "</style>\n",
       "<table border=\"1\" class=\"dataframe\">\n",
       "  <thead>\n",
       "    <tr style=\"text-align: right;\">\n",
       "      <th></th>\n",
       "      <th>Product</th>\n",
       "      <th>Age</th>\n",
       "      <th>Gender</th>\n",
       "      <th>Education</th>\n",
       "      <th>MaritalStatus</th>\n",
       "      <th>Usage</th>\n",
       "      <th>Fitness</th>\n",
       "      <th>Income</th>\n",
       "      <th>Miles</th>\n",
       "    </tr>\n",
       "  </thead>\n",
       "  <tbody>\n",
       "    <tr>\n",
       "      <th>0</th>\n",
       "      <td>KP281</td>\n",
       "      <td>18</td>\n",
       "      <td>Male</td>\n",
       "      <td>14</td>\n",
       "      <td>Single</td>\n",
       "      <td>3</td>\n",
       "      <td>4</td>\n",
       "      <td>29562</td>\n",
       "      <td>112</td>\n",
       "    </tr>\n",
       "    <tr>\n",
       "      <th>1</th>\n",
       "      <td>KP281</td>\n",
       "      <td>19</td>\n",
       "      <td>Male</td>\n",
       "      <td>15</td>\n",
       "      <td>Single</td>\n",
       "      <td>2</td>\n",
       "      <td>3</td>\n",
       "      <td>31836</td>\n",
       "      <td>75</td>\n",
       "    </tr>\n",
       "    <tr>\n",
       "      <th>2</th>\n",
       "      <td>KP281</td>\n",
       "      <td>19</td>\n",
       "      <td>Female</td>\n",
       "      <td>14</td>\n",
       "      <td>Partnered</td>\n",
       "      <td>4</td>\n",
       "      <td>3</td>\n",
       "      <td>30699</td>\n",
       "      <td>66</td>\n",
       "    </tr>\n",
       "    <tr>\n",
       "      <th>3</th>\n",
       "      <td>KP281</td>\n",
       "      <td>19</td>\n",
       "      <td>Male</td>\n",
       "      <td>12</td>\n",
       "      <td>Single</td>\n",
       "      <td>3</td>\n",
       "      <td>3</td>\n",
       "      <td>32973</td>\n",
       "      <td>85</td>\n",
       "    </tr>\n",
       "    <tr>\n",
       "      <th>4</th>\n",
       "      <td>KP281</td>\n",
       "      <td>20</td>\n",
       "      <td>Male</td>\n",
       "      <td>13</td>\n",
       "      <td>Partnered</td>\n",
       "      <td>4</td>\n",
       "      <td>2</td>\n",
       "      <td>35247</td>\n",
       "      <td>47</td>\n",
       "    </tr>\n",
       "  </tbody>\n",
       "</table>\n",
       "</div>"
      ],
      "text/plain": [
       "  Product  Age  Gender  Education MaritalStatus  Usage  Fitness  Income  Miles\n",
       "0   KP281   18    Male         14        Single      3        4   29562    112\n",
       "1   KP281   19    Male         15        Single      2        3   31836     75\n",
       "2   KP281   19  Female         14     Partnered      4        3   30699     66\n",
       "3   KP281   19    Male         12        Single      3        3   32973     85\n",
       "4   KP281   20    Male         13     Partnered      4        2   35247     47"
      ]
     },
     "execution_count": 3,
     "metadata": {},
     "output_type": "execute_result"
    }
   ],
   "source": [
    "df.head()"
   ]
  },
  {
   "cell_type": "markdown",
   "id": "5031d4cd",
   "metadata": {},
   "source": [
    " "
   ]
  },
  {
   "cell_type": "markdown",
   "id": "a581cc70",
   "metadata": {},
   "source": [
    "## 1.<u>Preliminary Analysis"
   ]
  },
  {
   "cell_type": "code",
   "execution_count": 4,
   "id": "fb837fd4",
   "metadata": {},
   "outputs": [
    {
     "name": "stdout",
     "output_type": "stream",
     "text": [
      "<class 'pandas.core.frame.DataFrame'>\n",
      "RangeIndex: 180 entries, 0 to 179\n",
      "Data columns (total 9 columns):\n",
      " #   Column         Non-Null Count  Dtype \n",
      "---  ------         --------------  ----- \n",
      " 0   Product        180 non-null    object\n",
      " 1   Age            180 non-null    int64 \n",
      " 2   Gender         180 non-null    object\n",
      " 3   Education      180 non-null    int64 \n",
      " 4   MaritalStatus  180 non-null    object\n",
      " 5   Usage          180 non-null    int64 \n",
      " 6   Fitness        180 non-null    int64 \n",
      " 7   Income         180 non-null    int64 \n",
      " 8   Miles          180 non-null    int64 \n",
      "dtypes: int64(6), object(3)\n",
      "memory usage: 12.8+ KB\n"
     ]
    }
   ],
   "source": [
    "#getting basic info about the dataset\n",
    "df.info()"
   ]
  },
  {
   "cell_type": "markdown",
   "id": "17efdad3",
   "metadata": {},
   "source": [
    "<b> <i> Initial info shows no null values"
   ]
  },
  {
   "cell_type": "code",
   "execution_count": 5,
   "id": "d184764b",
   "metadata": {},
   "outputs": [
    {
     "data": {
      "text/html": [
       "<div>\n",
       "<style scoped>\n",
       "    .dataframe tbody tr th:only-of-type {\n",
       "        vertical-align: middle;\n",
       "    }\n",
       "\n",
       "    .dataframe tbody tr th {\n",
       "        vertical-align: top;\n",
       "    }\n",
       "\n",
       "    .dataframe thead th {\n",
       "        text-align: right;\n",
       "    }\n",
       "</style>\n",
       "<table border=\"1\" class=\"dataframe\">\n",
       "  <thead>\n",
       "    <tr style=\"text-align: right;\">\n",
       "      <th></th>\n",
       "      <th>Age</th>\n",
       "      <th>Education</th>\n",
       "      <th>Usage</th>\n",
       "      <th>Fitness</th>\n",
       "      <th>Income</th>\n",
       "      <th>Miles</th>\n",
       "    </tr>\n",
       "  </thead>\n",
       "  <tbody>\n",
       "    <tr>\n",
       "      <th>count</th>\n",
       "      <td>180.000000</td>\n",
       "      <td>180.000000</td>\n",
       "      <td>180.000000</td>\n",
       "      <td>180.000000</td>\n",
       "      <td>180.000000</td>\n",
       "      <td>180.000000</td>\n",
       "    </tr>\n",
       "    <tr>\n",
       "      <th>mean</th>\n",
       "      <td>28.788889</td>\n",
       "      <td>15.572222</td>\n",
       "      <td>3.455556</td>\n",
       "      <td>3.311111</td>\n",
       "      <td>53719.577778</td>\n",
       "      <td>103.194444</td>\n",
       "    </tr>\n",
       "    <tr>\n",
       "      <th>std</th>\n",
       "      <td>6.943498</td>\n",
       "      <td>1.617055</td>\n",
       "      <td>1.084797</td>\n",
       "      <td>0.958869</td>\n",
       "      <td>16506.684226</td>\n",
       "      <td>51.863605</td>\n",
       "    </tr>\n",
       "    <tr>\n",
       "      <th>min</th>\n",
       "      <td>18.000000</td>\n",
       "      <td>12.000000</td>\n",
       "      <td>2.000000</td>\n",
       "      <td>1.000000</td>\n",
       "      <td>29562.000000</td>\n",
       "      <td>21.000000</td>\n",
       "    </tr>\n",
       "    <tr>\n",
       "      <th>25%</th>\n",
       "      <td>24.000000</td>\n",
       "      <td>14.000000</td>\n",
       "      <td>3.000000</td>\n",
       "      <td>3.000000</td>\n",
       "      <td>44058.750000</td>\n",
       "      <td>66.000000</td>\n",
       "    </tr>\n",
       "    <tr>\n",
       "      <th>50%</th>\n",
       "      <td>26.000000</td>\n",
       "      <td>16.000000</td>\n",
       "      <td>3.000000</td>\n",
       "      <td>3.000000</td>\n",
       "      <td>50596.500000</td>\n",
       "      <td>94.000000</td>\n",
       "    </tr>\n",
       "    <tr>\n",
       "      <th>75%</th>\n",
       "      <td>33.000000</td>\n",
       "      <td>16.000000</td>\n",
       "      <td>4.000000</td>\n",
       "      <td>4.000000</td>\n",
       "      <td>58668.000000</td>\n",
       "      <td>114.750000</td>\n",
       "    </tr>\n",
       "    <tr>\n",
       "      <th>max</th>\n",
       "      <td>50.000000</td>\n",
       "      <td>21.000000</td>\n",
       "      <td>7.000000</td>\n",
       "      <td>5.000000</td>\n",
       "      <td>104581.000000</td>\n",
       "      <td>360.000000</td>\n",
       "    </tr>\n",
       "  </tbody>\n",
       "</table>\n",
       "</div>"
      ],
      "text/plain": [
       "              Age   Education       Usage     Fitness         Income  \\\n",
       "count  180.000000  180.000000  180.000000  180.000000     180.000000   \n",
       "mean    28.788889   15.572222    3.455556    3.311111   53719.577778   \n",
       "std      6.943498    1.617055    1.084797    0.958869   16506.684226   \n",
       "min     18.000000   12.000000    2.000000    1.000000   29562.000000   \n",
       "25%     24.000000   14.000000    3.000000    3.000000   44058.750000   \n",
       "50%     26.000000   16.000000    3.000000    3.000000   50596.500000   \n",
       "75%     33.000000   16.000000    4.000000    4.000000   58668.000000   \n",
       "max     50.000000   21.000000    7.000000    5.000000  104581.000000   \n",
       "\n",
       "            Miles  \n",
       "count  180.000000  \n",
       "mean   103.194444  \n",
       "std     51.863605  \n",
       "min     21.000000  \n",
       "25%     66.000000  \n",
       "50%     94.000000  \n",
       "75%    114.750000  \n",
       "max    360.000000  "
      ]
     },
     "execution_count": 5,
     "metadata": {},
     "output_type": "execute_result"
    }
   ],
   "source": [
    "#generating descriptive statistics\n",
    "df.describe()"
   ]
  },
  {
   "cell_type": "markdown",
   "id": "8c261fcf",
   "metadata": {},
   "source": [
    "<i><b>Dataset shows the following:<b><br>\n",
    "    \n",
    "Average age of consumers : 26yrs<br>\n",
    "Average education of consumers : 16yrs<br>\n",
    "Average usage of the treadmill per week : 3 times, 94 miles<br>\n",
    "Average annual income of consumers : $50500 <br>"
   ]
  },
  {
   "cell_type": "markdown",
   "id": "efeb5dc0",
   "metadata": {},
   "source": [
    " "
   ]
  },
  {
   "cell_type": "markdown",
   "id": "654ee7fe",
   "metadata": {},
   "source": [
    " ## 2.<u>Outlier Detection and Removal"
   ]
  },
  {
   "cell_type": "markdown",
   "id": "d66d45e1",
   "metadata": {},
   "source": [
    "<h3>'Income' attribute"
   ]
  },
  {
   "cell_type": "code",
   "execution_count": 6,
   "id": "e6203594",
   "metadata": {},
   "outputs": [
    {
     "data": {
      "text/plain": [
       "count       180.000000\n",
       "mean      53719.577778\n",
       "std       16506.684226\n",
       "min       29562.000000\n",
       "25%       44058.750000\n",
       "50%       50596.500000\n",
       "75%       58668.000000\n",
       "max      104581.000000\n",
       "Name: Income, dtype: float64"
      ]
     },
     "execution_count": 6,
     "metadata": {},
     "output_type": "execute_result"
    }
   ],
   "source": [
    "df['Income'].describe()"
   ]
  },
  {
   "cell_type": "code",
   "execution_count": 7,
   "id": "e87d63c8",
   "metadata": {
    "scrolled": true
   },
   "outputs": [
    {
     "data": {
      "text/plain": [
       "<AxesSubplot:ylabel='Income'>"
      ]
     },
     "execution_count": 7,
     "metadata": {},
     "output_type": "execute_result"
    },
    {
     "data": {
      "image/png": "[encoded data removed]",
      "text/plain": [
       "<Figure size 432x288 with 1 Axes>"
      ]
     },
     "metadata": {
      "needs_background": "light"
     },
     "output_type": "display_data"
    }
   ],
   "source": [
    "sns.boxplot(y = 'Income', data = df)"
   ]
  },
  {
   "cell_type": "code",
   "execution_count": 8,
   "id": "306d08d5",
   "metadata": {},
   "outputs": [
    {
     "data": {
      "text/plain": [
       "3123.0777777777766"
      ]
     },
     "execution_count": 8,
     "metadata": {},
     "output_type": "execute_result"
    }
   ],
   "source": [
    "df['Income'].mean() - df['Income'].median()"
   ]
  },
  {
   "cell_type": "markdown",
   "id": "48c805b8",
   "metadata": {},
   "source": [
    "<b>most salary data is between 44k and 58k, but we notice big difference between mean and median due to some existing outliers"
   ]
  },
  {
   "cell_type": "code",
   "execution_count": 9,
   "id": "ad6c76be",
   "metadata": {},
   "outputs": [],
   "source": [
    "#removing the outliers\n",
    "q1 = df['Income'].quantile(.25)\n",
    "q3 = df['Income'].quantile(.75)\n",
    "iqr = q3-q1\n",
    "df = df[(df['Income'] > q1-1.5*iqr) & (df['Income'] < q3+1.5*iqr)]"
   ]
  },
  {
   "cell_type": "code",
   "execution_count": 10,
   "id": "e2f8781b",
   "metadata": {
    "scrolled": false
   },
   "outputs": [
    {
     "data": {
      "text/plain": [
       "<AxesSubplot:ylabel='Income'>"
      ]
     },
     "execution_count": 10,
     "metadata": {},
     "output_type": "execute_result"
    },
    {
     "data": {
      "image/png": "[encoded data removed]",
      "text/plain": [
       "<Figure size 432x288 with 1 Axes>"
      ]
     },
     "metadata": {
      "needs_background": "light"
     },
     "output_type": "display_data"
    }
   ],
   "source": [
    "sns.boxplot(y = 'Income', data = df)"
   ]
  },
  {
   "cell_type": "code",
   "execution_count": 11,
   "id": "80c4deeb",
   "metadata": {},
   "outputs": [
    {
     "data": {
      "text/plain": [
       "228.18012422360334"
      ]
     },
     "execution_count": 11,
     "metadata": {},
     "output_type": "execute_result"
    }
   ],
   "source": [
    "df['Income'].mean() - df['Income'].median()"
   ]
  },
  {
   "cell_type": "markdown",
   "id": "c74a2144",
   "metadata": {},
   "source": [
    "<b>outliers significantly reduced"
   ]
  },
  {
   "cell_type": "markdown",
   "id": "4bce45c8",
   "metadata": {},
   "source": [
    " \n",
    " "
   ]
  },
  {
   "cell_type": "markdown",
   "id": "89bd906c",
   "metadata": {},
   "source": [
    "### Categorizing attributes"
   ]
  },
  {
   "cell_type": "markdown",
   "id": "f8e6e339",
   "metadata": {},
   "source": [
    " <b> Categorizing AGE to a new column 'age_bins'"
   ]
  },
  {
   "cell_type": "code",
   "execution_count": 12,
   "id": "254ea167",
   "metadata": {},
   "outputs": [],
   "source": [
    "df['age_bins'] = pd.cut(x=df['Age'], bins=[0,20,30,40,50,70,100], labels = ['0-20','20-30','30-40','40-50','50-70','70-100'])"
   ]
  },
  {
   "cell_type": "code",
   "execution_count": 13,
   "id": "3f3a6dd9",
   "metadata": {},
   "outputs": [
    {
     "data": {
      "text/plain": [
       "20-30     101\n",
       "30-40      42\n",
       "0-20       10\n",
       "40-50       8\n",
       "50-70       0\n",
       "70-100      0\n",
       "Name: age_bins, dtype: int64"
      ]
     },
     "execution_count": 13,
     "metadata": {},
     "output_type": "execute_result"
    }
   ],
   "source": [
    "df['age_bins'].value_counts()"
   ]
  },
  {
   "cell_type": "markdown",
   "id": "45acf50d",
   "metadata": {},
   "source": [
    " <b> Categorizing INCOME to a new column 'income_bins'"
   ]
  },
  {
   "cell_type": "code",
   "execution_count": 14,
   "id": "434ae964",
   "metadata": {},
   "outputs": [],
   "source": [
    "df['income_bins'] = pd.cut(x=df['Income'], bins=[29000,40000,50000,60000,70000,80000], labels = ['29k-40k','40k-50k','50k-60k','60k-70k','70k-80k'])"
   ]
  },
  {
   "cell_type": "code",
   "execution_count": 15,
   "id": "aa7fd7af",
   "metadata": {},
   "outputs": [
    {
     "data": {
      "text/plain": [
       "50k-60k    55\n",
       "40k-50k    51\n",
       "29k-40k    32\n",
       "60k-70k    19\n",
       "70k-80k     4\n",
       "Name: income_bins, dtype: int64"
      ]
     },
     "execution_count": 15,
     "metadata": {},
     "output_type": "execute_result"
    }
   ],
   "source": [
    "df['income_bins'].value_counts()"
   ]
  },
  {
   "cell_type": "markdown",
   "id": "0eaf557a",
   "metadata": {},
   "source": [
    " ## 3.<u>Detailed Analysis"
   ]
  },
  {
   "cell_type": "markdown",
   "id": "98f96bd2",
   "metadata": {},
   "source": [
    "<b> Checing correlation"
   ]
  },
  {
   "cell_type": "code",
   "execution_count": 16,
   "id": "c6b66779",
   "metadata": {
    "scrolled": true
   },
   "outputs": [
    {
     "data": {
      "text/plain": [
       "<AxesSubplot:>"
      ]
     },
     "execution_count": 16,
     "metadata": {},
     "output_type": "execute_result"
    },
    {
     "data": {
      "image/png": "[encoded data removed]",
      "text/plain": [
       "<Figure size 432x288 with 2 Axes>"
      ]
     },
     "metadata": {
      "needs_background": "light"
     },
     "output_type": "display_data"
    }
   ],
   "source": [
    "sns.heatmap(df.corr(), annot = True)"
   ]
  },
  {
   "cell_type": "markdown",
   "id": "211b1fa8",
   "metadata": {},
   "source": [
    "> Usage, Miles and Fitness see an obvious correlation. <br>\n",
    "<b>Education, Age and Income</b> seems to have a high correlation between each other which can be further explored..<br>\n"
   ]
  },
  {
   "cell_type": "markdown",
   "id": "d63e7648",
   "metadata": {},
   "source": [
    " "
   ]
  },
  {
   "cell_type": "markdown",
   "id": "590fea4c",
   "metadata": {},
   "source": [
    "<b>First checking how can <i>'Gender'</i> <b>affect"
   ]
  },
  {
   "cell_type": "code",
   "execution_count": 17,
   "id": "30be6c49",
   "metadata": {},
   "outputs": [
    {
     "data": {
      "text/plain": [
       "<AxesSubplot:xlabel='Gender', ylabel='Income'>"
      ]
     },
     "execution_count": 17,
     "metadata": {},
     "output_type": "execute_result"
    },
    {
     "data": {
      "image/png": "[encoded data removed]",
      "text/plain": [
       "<Figure size 432x288 with 1 Axes>"
      ]
     },
     "metadata": {
      "needs_background": "light"
     },
     "output_type": "display_data"
    }
   ],
   "source": [
    "sns.boxplot(x = 'Gender', y = 'Income', data = df)"
   ]
  },
  {
   "cell_type": "code",
   "execution_count": 19,
   "id": "e2d4b2d8",
   "metadata": {},
   "outputs": [
    {
     "data": {
      "text/plain": [
       "Gender\n",
       "Female    48056.356164\n",
       "Male      50000.840909\n",
       "Name: Income, dtype: float64"
      ]
     },
     "execution_count": 19,
     "metadata": {},
     "output_type": "execute_result"
    }
   ],
   "source": [
    "df.groupby('Gender')['Income'].mean()"
   ]
  },
  {
   "cell_type": "markdown",
   "id": "b9edc09c",
   "metadata": {},
   "source": [
    "> Males earn more than females, so would most likely spend more"
   ]
  },
  {
   "cell_type": "code",
   "execution_count": 20,
   "id": "2a024777",
   "metadata": {},
   "outputs": [
    {
     "data": {
      "text/plain": [
       "<AxesSubplot:xlabel='Gender', ylabel='Age'>"
      ]
     },
     "execution_count": 20,
     "metadata": {},
     "output_type": "execute_result"
    },
    {
     "data": {
      "image/png": "[encoded data removed]",
      "text/plain": [
       "<Figure size 432x288 with 1 Axes>"
      ]
     },
     "metadata": {
      "needs_background": "light"
     },
     "output_type": "display_data"
    }
   ],
   "source": [
    "sns.boxplot(x = 'Gender', y = 'Age', data = df)"
   ]
  },
  {
   "cell_type": "code",
   "execution_count": 22,
   "id": "d9783967",
   "metadata": {},
   "outputs": [
    {
     "data": {
      "text/plain": [
       "Gender\n",
       "Female    28.493151\n",
       "Male      27.875000\n",
       "Name: Age, dtype: float64"
      ]
     },
     "execution_count": 22,
     "metadata": {},
     "output_type": "execute_result"
    }
   ],
   "source": [
    "df.groupby('Gender')['Age'].mean()"
   ]
  },
  {
   "cell_type": "markdown",
   "id": "5ee71aa0",
   "metadata": {},
   "source": [
    ">Males tend to purchase the equipment at a younger age while females tend to buy it at an older age. <br>\n",
    "This could indicate that when compared to males, females get more health concious as they age"
   ]
  },
  {
   "cell_type": "code",
   "execution_count": 23,
   "id": "5f0cbe83",
   "metadata": {
    "scrolled": true
   },
   "outputs": [
    {
     "data": {
      "text/plain": [
       "<AxesSubplot:xlabel='Gender', ylabel='Usage'>"
      ]
     },
     "execution_count": 23,
     "metadata": {},
     "output_type": "execute_result"
    },
    {
     "data": {
      "image/png": "[encoded data removed]",
      "text/plain": [
       "<Figure size 432x288 with 1 Axes>"
      ]
     },
     "metadata": {
      "needs_background": "light"
     },
     "output_type": "display_data"
    }
   ],
   "source": [
    "sns.boxplot(x = 'Gender', y = 'Usage', data = df)"
   ]
  },
  {
   "cell_type": "code",
   "execution_count": 24,
   "id": "91afb905",
   "metadata": {},
   "outputs": [
    {
     "data": {
      "text/html": [
       "<div>\n",
       "<style scoped>\n",
       "    .dataframe tbody tr th:only-of-type {\n",
       "        vertical-align: middle;\n",
       "    }\n",
       "\n",
       "    .dataframe tbody tr th {\n",
       "        vertical-align: top;\n",
       "    }\n",
       "\n",
       "    .dataframe thead th {\n",
       "        text-align: right;\n",
       "    }\n",
       "</style>\n",
       "<table border=\"1\" class=\"dataframe\">\n",
       "  <thead>\n",
       "    <tr style=\"text-align: right;\">\n",
       "      <th></th>\n",
       "      <th>count</th>\n",
       "      <th>mean</th>\n",
       "      <th>std</th>\n",
       "      <th>min</th>\n",
       "      <th>25%</th>\n",
       "      <th>50%</th>\n",
       "      <th>75%</th>\n",
       "      <th>max</th>\n",
       "    </tr>\n",
       "    <tr>\n",
       "      <th>Gender</th>\n",
       "      <th></th>\n",
       "      <th></th>\n",
       "      <th></th>\n",
       "      <th></th>\n",
       "      <th></th>\n",
       "      <th></th>\n",
       "      <th></th>\n",
       "      <th></th>\n",
       "    </tr>\n",
       "  </thead>\n",
       "  <tbody>\n",
       "    <tr>\n",
       "      <th>Female</th>\n",
       "      <td>73.0</td>\n",
       "      <td>3.095890</td>\n",
       "      <td>0.915369</td>\n",
       "      <td>2.0</td>\n",
       "      <td>2.0</td>\n",
       "      <td>3.0</td>\n",
       "      <td>4.0</td>\n",
       "      <td>5.0</td>\n",
       "    </tr>\n",
       "    <tr>\n",
       "      <th>Male</th>\n",
       "      <td>88.0</td>\n",
       "      <td>3.420455</td>\n",
       "      <td>0.955584</td>\n",
       "      <td>2.0</td>\n",
       "      <td>3.0</td>\n",
       "      <td>3.0</td>\n",
       "      <td>4.0</td>\n",
       "      <td>7.0</td>\n",
       "    </tr>\n",
       "  </tbody>\n",
       "</table>\n",
       "</div>"
      ],
      "text/plain": [
       "        count      mean       std  min  25%  50%  75%  max\n",
       "Gender                                                    \n",
       "Female   73.0  3.095890  0.915369  2.0  2.0  3.0  4.0  5.0\n",
       "Male     88.0  3.420455  0.955584  2.0  3.0  3.0  4.0  7.0"
      ]
     },
     "execution_count": 24,
     "metadata": {},
     "output_type": "execute_result"
    }
   ],
   "source": [
    "df.groupby('Gender')['Usage'].describe()"
   ]
  },
  {
   "cell_type": "code",
   "execution_count": 25,
   "id": "e7efddef",
   "metadata": {},
   "outputs": [
    {
     "data": {
      "text/plain": [
       "<AxesSubplot:xlabel='Gender', ylabel='Miles'>"
      ]
     },
     "execution_count": 25,
     "metadata": {},
     "output_type": "execute_result"
    },
    {
     "data": {
      "image/png": "[encoded data removed]",
      "text/plain": [
       "<Figure size 432x288 with 1 Axes>"
      ]
     },
     "metadata": {
      "needs_background": "light"
     },
     "output_type": "display_data"
    }
   ],
   "source": [
    "sns.boxplot(x = 'Gender', y = 'Miles', data = df)"
   ]
  },
  {
   "cell_type": "code",
   "execution_count": 26,
   "id": "f11e753c",
   "metadata": {},
   "outputs": [
    {
     "data": {
      "text/html": [
       "<div>\n",
       "<style scoped>\n",
       "    .dataframe tbody tr th:only-of-type {\n",
       "        vertical-align: middle;\n",
       "    }\n",
       "\n",
       "    .dataframe tbody tr th {\n",
       "        vertical-align: top;\n",
       "    }\n",
       "\n",
       "    .dataframe thead th {\n",
       "        text-align: right;\n",
       "    }\n",
       "</style>\n",
       "<table border=\"1\" class=\"dataframe\">\n",
       "  <thead>\n",
       "    <tr style=\"text-align: right;\">\n",
       "      <th></th>\n",
       "      <th>count</th>\n",
       "      <th>mean</th>\n",
       "      <th>std</th>\n",
       "      <th>min</th>\n",
       "      <th>25%</th>\n",
       "      <th>50%</th>\n",
       "      <th>75%</th>\n",
       "      <th>max</th>\n",
       "    </tr>\n",
       "    <tr>\n",
       "      <th>Gender</th>\n",
       "      <th></th>\n",
       "      <th></th>\n",
       "      <th></th>\n",
       "      <th></th>\n",
       "      <th></th>\n",
       "      <th></th>\n",
       "      <th></th>\n",
       "      <th></th>\n",
       "    </tr>\n",
       "  </thead>\n",
       "  <tbody>\n",
       "    <tr>\n",
       "      <th>Female</th>\n",
       "      <td>73.0</td>\n",
       "      <td>84.671233</td>\n",
       "      <td>35.753809</td>\n",
       "      <td>21.0</td>\n",
       "      <td>66.0</td>\n",
       "      <td>85.0</td>\n",
       "      <td>95.00</td>\n",
       "      <td>212.0</td>\n",
       "    </tr>\n",
       "    <tr>\n",
       "      <th>Male</th>\n",
       "      <td>88.0</td>\n",
       "      <td>100.386364</td>\n",
       "      <td>40.755913</td>\n",
       "      <td>42.0</td>\n",
       "      <td>75.0</td>\n",
       "      <td>95.0</td>\n",
       "      <td>114.75</td>\n",
       "      <td>240.0</td>\n",
       "    </tr>\n",
       "  </tbody>\n",
       "</table>\n",
       "</div>"
      ],
      "text/plain": [
       "        count        mean        std   min   25%   50%     75%    max\n",
       "Gender                                                               \n",
       "Female   73.0   84.671233  35.753809  21.0  66.0  85.0   95.00  212.0\n",
       "Male     88.0  100.386364  40.755913  42.0  75.0  95.0  114.75  240.0"
      ]
     },
     "execution_count": 26,
     "metadata": {},
     "output_type": "execute_result"
    }
   ],
   "source": [
    "df.groupby('Gender')['Miles'].describe()"
   ]
  },
  {
   "cell_type": "markdown",
   "id": "c90cbe6e",
   "metadata": {},
   "source": [
    ">Males use the treadmill much frequently and run more miles than females"
   ]
  },
  {
   "cell_type": "code",
   "execution_count": 27,
   "id": "ec56a10e",
   "metadata": {
    "scrolled": true
   },
   "outputs": [
    {
     "data": {
      "text/plain": [
       "<AxesSubplot:xlabel='Product', ylabel='count'>"
      ]
     },
     "execution_count": 27,
     "metadata": {},
     "output_type": "execute_result"
    },
    {
     "data": {
      "image/png": "[encoded data removed]",
      "text/plain": [
       "<Figure size 432x288 with 1 Axes>"
      ]
     },
     "metadata": {
      "needs_background": "light"
     },
     "output_type": "display_data"
    }
   ],
   "source": [
    "sns.countplot(x = 'Product', data = df, hue = 'Gender')"
   ]
  },
  {
   "cell_type": "code",
   "execution_count": 28,
   "id": "92ed7da9",
   "metadata": {},
   "outputs": [
    {
     "data": {
      "text/plain": [
       "Product  Gender\n",
       "KP281    Female    40\n",
       "         Male      40\n",
       "KP481    Male      31\n",
       "         Female    29\n",
       "KP781    Male      17\n",
       "         Female     4\n",
       "Name: Gender, dtype: int64"
      ]
     },
     "execution_count": 28,
     "metadata": {},
     "output_type": "execute_result"
    }
   ],
   "source": [
    "df.groupby('Product')['Gender'].value_counts()"
   ]
  },
  {
   "cell_type": "markdown",
   "id": "f3a916c9",
   "metadata": {},
   "source": [
    "> Data shows that males give more importance to the quality and features even if it costs more, while females seem not too interested in spending more on the equipment"
   ]
  },
  {
   "cell_type": "code",
   "execution_count": 29,
   "id": "80ecc0e8",
   "metadata": {},
   "outputs": [
    {
     "data": {
      "text/plain": [
       "Gender  MaritalStatus\n",
       "Female  Partnered        3633\n",
       "        Single           2548\n",
       "Male    Partnered        4926\n",
       "        Single           3908\n",
       "Name: Miles, dtype: int64"
      ]
     },
     "execution_count": 29,
     "metadata": {},
     "output_type": "execute_result"
    }
   ],
   "source": [
    "df.groupby(['Gender','MaritalStatus']).sum()['Miles']"
   ]
  },
  {
   "cell_type": "markdown",
   "id": "90f439ef",
   "metadata": {},
   "source": [
    "> Males and Females with partners seem to be more motivated to purchase the treadmill"
   ]
  },
  {
   "cell_type": "markdown",
   "id": "0bc0e44a",
   "metadata": {},
   "source": [
    "<b>Inference:<i> Males earn more, they use the treadmill more while they are relatively young and with a partner, and most of them do not mind paying a premium for extra features and quality."
   ]
  },
  {
   "cell_type": "markdown",
   "id": "0a1b56ac",
   "metadata": {},
   "source": [
    " "
   ]
  },
  {
   "cell_type": "markdown",
   "id": "bd701cfb",
   "metadata": {},
   "source": [
    "<b>How can <i>Age and Education</i> <b>affect?"
   ]
  },
  {
   "cell_type": "code",
   "execution_count": 30,
   "id": "a7a3de0f",
   "metadata": {
    "scrolled": false
   },
   "outputs": [
    {
     "data": {
      "text/plain": [
       "<AxesSubplot:xlabel='Product', ylabel='Age'>"
      ]
     },
     "execution_count": 30,
     "metadata": {},
     "output_type": "execute_result"
    },
    {
     "data": {
      "image/png": "[encoded data removed]",
      "text/plain": [
       "<Figure size 432x288 with 1 Axes>"
      ]
     },
     "metadata": {
      "needs_background": "light"
     },
     "output_type": "display_data"
    }
   ],
   "source": [
    "sns.boxplot(x = 'Product', y = 'Age', data = df)"
   ]
  },
  {
   "cell_type": "code",
   "execution_count": 31,
   "id": "0139313f",
   "metadata": {},
   "outputs": [
    {
     "data": {
      "text/plain": [
       "KP281    80\n",
       "KP481    60\n",
       "KP781    21\n",
       "Name: Product, dtype: int64"
      ]
     },
     "execution_count": 31,
     "metadata": {},
     "output_type": "execute_result"
    }
   ],
   "source": [
    "df.Product.value_counts()"
   ]
  },
  {
   "cell_type": "code",
   "execution_count": 32,
   "id": "e7bc38e7",
   "metadata": {
    "scrolled": true
   },
   "outputs": [
    {
     "data": {
      "image/png": "[encoded data removed]",
      "text/plain": [
       "<Figure size 432x288 with 1 Axes>"
      ]
     },
     "metadata": {},
     "output_type": "display_data"
    }
   ],
   "source": [
    "df[df.Product == 'KP781'].groupby('Age').Age.count().plot(kind='pie', title = 'Age-Wise sales of the KP781 model')\n",
    "plt.show()"
   ]
  },
  {
   "cell_type": "code",
   "execution_count": 33,
   "id": "f6e1720b",
   "metadata": {},
   "outputs": [
    {
     "data": {
      "image/png": "[encoded data removed]",
      "text/plain": [
       "<Figure size 432x288 with 1 Axes>"
      ]
     },
     "metadata": {},
     "output_type": "display_data"
    },
    {
     "name": "stdout",
     "output_type": "stream",
     "text": [
      "Gender\n",
      "Female     4\n",
      "Male      17\n",
      "Name: Age, dtype: int64\n"
     ]
    }
   ],
   "source": [
    "df[df.Product == 'KP781'].groupby('Gender').Age.count().plot(kind='pie', title = 'Gender-Wise sales of the KP781 model')\n",
    "plt.show()\n",
    "print(df[df.Product == 'KP781'].groupby('Gender').Age.count())"
   ]
  },
  {
   "cell_type": "markdown",
   "id": "e4ccdab3",
   "metadata": {},
   "source": [
    "> <b>The high-end model KP781 is only bought by consumers in their twenties, mostly 25, and mostly males"
   ]
  },
  {
   "cell_type": "code",
   "execution_count": 34,
   "id": "3dbe8063",
   "metadata": {},
   "outputs": [
    {
     "data": {
      "text/plain": [
       "<AxesSubplot:xlabel='Age', ylabel='Income'>"
      ]
     },
     "execution_count": 34,
     "metadata": {},
     "output_type": "execute_result"
    },
    {
     "data": {
      "image/png": "[encoded data removed]",
      "text/plain": [
       "<Figure size 432x288 with 1 Axes>"
      ]
     },
     "metadata": {
      "needs_background": "light"
     },
     "output_type": "display_data"
    }
   ],
   "source": [
    "sns.lineplot(x = 'Age', y = 'Income', data = df, hue = 'Product')"
   ]
  },
  {
   "cell_type": "markdown",
   "id": "1e17bb43",
   "metadata": {},
   "source": [
    ">As mentioned before, people between 20 and 30 years of age buy the KP781 model, they are also among the highest earning consumers "
   ]
  },
  {
   "cell_type": "code",
   "execution_count": 35,
   "id": "f1f5f9b3",
   "metadata": {},
   "outputs": [
    {
     "data": {
      "text/plain": [
       "<AxesSubplot:xlabel='Education', ylabel='Income'>"
      ]
     },
     "execution_count": 35,
     "metadata": {},
     "output_type": "execute_result"
    },
    {
     "data": {
      "image/png": "[encoded data removed]",
      "text/plain": [
       "<Figure size 432x288 with 1 Axes>"
      ]
     },
     "metadata": {
      "needs_background": "light"
     },
     "output_type": "display_data"
    }
   ],
   "source": [
    "sns.lineplot(x = 'Education', y = 'Income', data = df)"
   ]
  },
  {
   "cell_type": "markdown",
   "id": "5c9bdd8e",
   "metadata": {},
   "source": [
    "> More years of education, more the income"
   ]
  },
  {
   "cell_type": "code",
   "execution_count": 36,
   "id": "762af80e",
   "metadata": {},
   "outputs": [
    {
     "data": {
      "text/plain": [
       "<AxesSubplot:xlabel='Product', ylabel='Education'>"
      ]
     },
     "execution_count": 36,
     "metadata": {},
     "output_type": "execute_result"
    },
    {
     "data": {
      "image/png": "[encoded data removed]",
      "text/plain": [
       "<Figure size 432x288 with 1 Axes>"
      ]
     },
     "metadata": {
      "needs_background": "light"
     },
     "output_type": "display_data"
    }
   ],
   "source": [
    "sns.boxplot(x = 'Product', y = 'Education', data = df)"
   ]
  },
  {
   "cell_type": "code",
   "execution_count": 37,
   "id": "65049e49",
   "metadata": {},
   "outputs": [
    {
     "data": {
      "text/plain": [
       "Education\n",
       "14    1\n",
       "16    9\n",
       "18    9\n",
       "20    1\n",
       "21    1\n",
       "Name: Education, dtype: int64"
      ]
     },
     "execution_count": 37,
     "metadata": {},
     "output_type": "execute_result"
    }
   ],
   "source": [
    "df[df.Product == 'KP781'].groupby('Education').Education.count()"
   ]
  },
  {
   "cell_type": "markdown",
   "id": "e3b0ba24",
   "metadata": {},
   "source": [
    "> Consumers who typically have more than 16 years of education tend to purchase the high end model.<br>This could possibly be due to the fact that they earn more. Let's find that out!"
   ]
  },
  {
   "cell_type": "code",
   "execution_count": 38,
   "id": "de9b6afb",
   "metadata": {},
   "outputs": [
    {
     "data": {
      "text/plain": [
       "<AxesSubplot:xlabel='Usage', ylabel='Education'>"
      ]
     },
     "execution_count": 38,
     "metadata": {},
     "output_type": "execute_result"
    },
    {
     "data": {
      "image/png": "[encoded data removed]",
      "text/plain": [
       "<Figure size 432x288 with 1 Axes>"
      ]
     },
     "metadata": {
      "needs_background": "light"
     },
     "output_type": "display_data"
    }
   ],
   "source": [
    "sns.lineplot(x = 'Usage', y = 'Education', data = df)"
   ]
  },
  {
   "cell_type": "code",
   "execution_count": 39,
   "id": "a8d72a05",
   "metadata": {},
   "outputs": [
    {
     "data": {
      "text/plain": [
       "<AxesSubplot:xlabel='Miles', ylabel='Education'>"
      ]
     },
     "execution_count": 39,
     "metadata": {},
     "output_type": "execute_result"
    },
    {
     "data": {
      "image/png": "[encoded data removed]",
      "text/plain": [
       "<Figure size 432x288 with 1 Axes>"
      ]
     },
     "metadata": {
      "needs_background": "light"
     },
     "output_type": "display_data"
    }
   ],
   "source": [
    "sns.lineplot(x = 'Miles', y = 'Education', data = df)"
   ]
  },
  {
   "cell_type": "markdown",
   "id": "b74f8f31",
   "metadata": {},
   "source": [
    "> We can deduce that consumers with more education tend to use the treadmill more frequently in a week possibly because of being better aware about the benefits of consistent physical activity"
   ]
  },
  {
   "cell_type": "markdown",
   "id": "1ae3f448",
   "metadata": {},
   "source": [
    "<b>Inference:<i> Consumers between the age of 20 and 30 includes the most educated and most frequent treadmill users, and with the highest income they are the only category of consumers who are mostly males that purchases the higher end model 'KP781'"
   ]
  },
  {
   "cell_type": "markdown",
   "id": "a4a81d5c",
   "metadata": {},
   "source": [
    " "
   ]
  },
  {
   "cell_type": "markdown",
   "id": "083824d2",
   "metadata": {},
   "source": [
    "<b>How can <i>Marital Status</i> <b>affect?"
   ]
  },
  {
   "cell_type": "code",
   "execution_count": 40,
   "id": "d08eb59e",
   "metadata": {},
   "outputs": [
    {
     "data": {
      "text/plain": [
       "<AxesSubplot:xlabel='MaritalStatus', ylabel='count'>"
      ]
     },
     "execution_count": 40,
     "metadata": {},
     "output_type": "execute_result"
    },
    {
     "data": {
      "image/png": "[encoded data removed]",
      "text/plain": [
       "<Figure size 432x288 with 1 Axes>"
      ]
     },
     "metadata": {
      "needs_background": "light"
     },
     "output_type": "display_data"
    }
   ],
   "source": [
    "sns.countplot(x = 'MaritalStatus', data = df)"
   ]
  },
  {
   "cell_type": "markdown",
   "id": "7d09c6f4",
   "metadata": {},
   "source": [
    "> people with partners tend to purchase more"
   ]
  },
  {
   "cell_type": "code",
   "execution_count": 41,
   "id": "d492ab2e",
   "metadata": {},
   "outputs": [
    {
     "data": {
      "text/plain": [
       "<AxesSubplot:xlabel='Product,MaritalStatus', ylabel='Count'>"
      ]
     },
     "execution_count": 41,
     "metadata": {},
     "output_type": "execute_result"
    },
    {
     "data": {
      "image/png": "[encoded data removed]",
      "text/plain": [
       "<Figure size 432x288 with 1 Axes>"
      ]
     },
     "metadata": {
      "needs_background": "light"
     },
     "output_type": "display_data"
    }
   ],
   "source": [
    "df.groupby('Product')['MaritalStatus'].value_counts().plot(kind = 'bar', ylabel = 'Count')\n"
   ]
  },
  {
   "cell_type": "markdown",
   "id": "ecefb9cf",
   "metadata": {},
   "source": [
    "> Most partnered people tend to purchase the cheaper version, while the advanced version is slightly more preferred by single consumers "
   ]
  },
  {
   "cell_type": "code",
   "execution_count": 42,
   "id": "b10848a3",
   "metadata": {},
   "outputs": [
    {
     "data": {
      "text/plain": [
       "<AxesSubplot:xlabel='Usage', ylabel='Miles'>"
      ]
     },
     "execution_count": 42,
     "metadata": {},
     "output_type": "execute_result"
    },
    {
     "data": {
      "image/png": "[encoded data removed]",
      "text/plain": [
       "<Figure size 432x288 with 1 Axes>"
      ]
     },
     "metadata": {
      "needs_background": "light"
     },
     "output_type": "display_data"
    }
   ],
   "source": [
    "sns.barplot(x = 'Usage', y = 'Miles', hue = 'MaritalStatus', data = df)"
   ]
  },
  {
   "cell_type": "markdown",
   "id": "99751379",
   "metadata": {},
   "source": [
    "> We can see increased usage patterns for partnered consumers "
   ]
  },
  {
   "cell_type": "markdown",
   "id": "7aa470ac",
   "metadata": {},
   "source": [
    "<b>Inference:<i> We can see that Partnered consumers are more likely to use the treadmill more frequently, but are not comfortable spending more for advanced features and hence prefer to buy the basic entry level and mid level versions."
   ]
  },
  {
   "cell_type": "markdown",
   "id": "681596df",
   "metadata": {},
   "source": [
    " "
   ]
  },
  {
   "cell_type": "markdown",
   "id": "0643dfab",
   "metadata": {},
   "source": [
    " "
   ]
  },
  {
   "cell_type": "markdown",
   "id": "b90e675f",
   "metadata": {},
   "source": [
    " \n"
   ]
  },
  {
   "cell_type": "code",
   "execution_count": 43,
   "id": "7456e6ed",
   "metadata": {},
   "outputs": [
    {
     "data": {
      "text/plain": [
       "<AxesSubplot:xlabel='Product', ylabel='count'>"
      ]
     },
     "execution_count": 43,
     "metadata": {},
     "output_type": "execute_result"
    },
    {
     "data": {
      "image/png": "[encoded data removed]",
      "text/plain": [
       "<Figure size 432x288 with 1 Axes>"
      ]
     },
     "metadata": {
      "needs_background": "light"
     },
     "output_type": "display_data"
    }
   ],
   "source": [
    "sns.countplot(x = 'Product', hue = 'Usage', data = df)"
   ]
  },
  {
   "cell_type": "markdown",
   "id": "31db3588",
   "metadata": {},
   "source": [
    "> Consumers purchasing the advanced level treadmill uses them more frequently"
   ]
  },
  {
   "cell_type": "code",
   "execution_count": 44,
   "id": "24630547",
   "metadata": {},
   "outputs": [
    {
     "data": {
      "text/plain": [
       "<seaborn.axisgrid.PairGrid at 0x28b97c95e40>"
      ]
     },
     "execution_count": 44,
     "metadata": {},
     "output_type": "execute_result"
    },
    {
     "data": {
      "image/png": "[encoded data removed]",
      "text/plain": [
       "<Figure size 1080x1080 with 42 Axes>"
      ]
     },
     "metadata": {
      "needs_background": "light"
     },
     "output_type": "display_data"
    }
   ],
   "source": [
    "sns.pairplot(df)"
   ]
  },
  {
   "cell_type": "markdown",
   "id": "09aa15c9",
   "metadata": {},
   "source": [
    " "
   ]
  },
  {
   "cell_type": "markdown",
   "id": "8a2d2283",
   "metadata": {},
   "source": [
    " "
   ]
  },
  {
   "cell_type": "markdown",
   "id": "e7aeec3c",
   "metadata": {},
   "source": [
    "  ## 4.<u>Probability"
   ]
  },
  {
   "cell_type": "markdown",
   "id": "8d69a022",
   "metadata": {},
   "source": [
    "### Marginal Probability"
   ]
  },
  {
   "cell_type": "code",
   "execution_count": 45,
   "id": "a0f7e228",
   "metadata": {},
   "outputs": [
    {
     "data": {
      "text/html": [
       "<div>\n",
       "<style scoped>\n",
       "    .dataframe tbody tr th:only-of-type {\n",
       "        vertical-align: middle;\n",
       "    }\n",
       "\n",
       "    .dataframe tbody tr th {\n",
       "        vertical-align: top;\n",
       "    }\n",
       "\n",
       "    .dataframe thead th {\n",
       "        text-align: right;\n",
       "    }\n",
       "</style>\n",
       "<table border=\"1\" class=\"dataframe\">\n",
       "  <thead>\n",
       "    <tr style=\"text-align: right;\">\n",
       "      <th>Product</th>\n",
       "      <th>KP281</th>\n",
       "      <th>KP481</th>\n",
       "      <th>KP781</th>\n",
       "      <th>All</th>\n",
       "    </tr>\n",
       "    <tr>\n",
       "      <th>Gender</th>\n",
       "      <th></th>\n",
       "      <th></th>\n",
       "      <th></th>\n",
       "      <th></th>\n",
       "    </tr>\n",
       "  </thead>\n",
       "  <tbody>\n",
       "    <tr>\n",
       "      <th>Female</th>\n",
       "      <td>24.844720</td>\n",
       "      <td>18.012422</td>\n",
       "      <td>2.484472</td>\n",
       "      <td>45.341615</td>\n",
       "    </tr>\n",
       "    <tr>\n",
       "      <th>Male</th>\n",
       "      <td>24.844720</td>\n",
       "      <td>19.254658</td>\n",
       "      <td>10.559006</td>\n",
       "      <td>54.658385</td>\n",
       "    </tr>\n",
       "    <tr>\n",
       "      <th>All</th>\n",
       "      <td>49.689441</td>\n",
       "      <td>37.267081</td>\n",
       "      <td>13.043478</td>\n",
       "      <td>100.000000</td>\n",
       "    </tr>\n",
       "  </tbody>\n",
       "</table>\n",
       "</div>"
      ],
      "text/plain": [
       "Product      KP281      KP481      KP781         All\n",
       "Gender                                              \n",
       "Female   24.844720  18.012422   2.484472   45.341615\n",
       "Male     24.844720  19.254658  10.559006   54.658385\n",
       "All      49.689441  37.267081  13.043478  100.000000"
      ]
     },
     "execution_count": 45,
     "metadata": {},
     "output_type": "execute_result"
    }
   ],
   "source": [
    "pd.crosstab(index=df['Gender'],columns=df['Product'],margins=True, normalize = True)*100"
   ]
  },
  {
   "cell_type": "markdown",
   "id": "98cd7790",
   "metadata": {},
   "source": [
    "> <i>   Out of 45% females and 54% males:</i><br><li>24% of males and females have purchased KP281<br><li>18-19% of males and females have purchased KP781<br><li>10% of males and just 2% of females have purchased KP781"
   ]
  },
  {
   "cell_type": "code",
   "execution_count": 46,
   "id": "858024d2",
   "metadata": {},
   "outputs": [
    {
     "data": {
      "text/html": [
       "<div>\n",
       "<style scoped>\n",
       "    .dataframe tbody tr th:only-of-type {\n",
       "        vertical-align: middle;\n",
       "    }\n",
       "\n",
       "    .dataframe tbody tr th {\n",
       "        vertical-align: top;\n",
       "    }\n",
       "\n",
       "    .dataframe thead th {\n",
       "        text-align: right;\n",
       "    }\n",
       "</style>\n",
       "<table border=\"1\" class=\"dataframe\">\n",
       "  <thead>\n",
       "    <tr style=\"text-align: right;\">\n",
       "      <th>Product</th>\n",
       "      <th>KP281</th>\n",
       "      <th>KP481</th>\n",
       "      <th>KP781</th>\n",
       "      <th>All</th>\n",
       "    </tr>\n",
       "    <tr>\n",
       "      <th>income_bins</th>\n",
       "      <th></th>\n",
       "      <th></th>\n",
       "      <th></th>\n",
       "      <th></th>\n",
       "    </tr>\n",
       "  </thead>\n",
       "  <tbody>\n",
       "    <tr>\n",
       "      <th>29k-40k</th>\n",
       "      <td>14.285714</td>\n",
       "      <td>5.590062</td>\n",
       "      <td>0.000000</td>\n",
       "      <td>19.875776</td>\n",
       "    </tr>\n",
       "    <tr>\n",
       "      <th>40k-50k</th>\n",
       "      <td>15.527950</td>\n",
       "      <td>13.043478</td>\n",
       "      <td>3.105590</td>\n",
       "      <td>31.677019</td>\n",
       "    </tr>\n",
       "    <tr>\n",
       "      <th>50k-60k</th>\n",
       "      <td>16.149068</td>\n",
       "      <td>14.285714</td>\n",
       "      <td>3.726708</td>\n",
       "      <td>34.161491</td>\n",
       "    </tr>\n",
       "    <tr>\n",
       "      <th>60k-70k</th>\n",
       "      <td>3.726708</td>\n",
       "      <td>4.347826</td>\n",
       "      <td>3.726708</td>\n",
       "      <td>11.801242</td>\n",
       "    </tr>\n",
       "    <tr>\n",
       "      <th>70k-80k</th>\n",
       "      <td>0.000000</td>\n",
       "      <td>0.000000</td>\n",
       "      <td>2.484472</td>\n",
       "      <td>2.484472</td>\n",
       "    </tr>\n",
       "    <tr>\n",
       "      <th>All</th>\n",
       "      <td>49.689441</td>\n",
       "      <td>37.267081</td>\n",
       "      <td>13.043478</td>\n",
       "      <td>100.000000</td>\n",
       "    </tr>\n",
       "  </tbody>\n",
       "</table>\n",
       "</div>"
      ],
      "text/plain": [
       "Product          KP281      KP481      KP781         All\n",
       "income_bins                                             \n",
       "29k-40k      14.285714   5.590062   0.000000   19.875776\n",
       "40k-50k      15.527950  13.043478   3.105590   31.677019\n",
       "50k-60k      16.149068  14.285714   3.726708   34.161491\n",
       "60k-70k       3.726708   4.347826   3.726708   11.801242\n",
       "70k-80k       0.000000   0.000000   2.484472    2.484472\n",
       "All          49.689441  37.267081  13.043478  100.000000"
      ]
     },
     "execution_count": 46,
     "metadata": {},
     "output_type": "execute_result"
    }
   ],
   "source": [
    "pd.crosstab(index=df['income_bins'],columns=df['Product'],margins=True, normalize = True)*100"
   ]
  },
  {
   "cell_type": "markdown",
   "id": "e546a4a5",
   "metadata": {},
   "source": [
    "><li>Consumers in the income range 40k-60k have purchased the most amount of treadmills"
   ]
  },
  {
   "cell_type": "code",
   "execution_count": 47,
   "id": "0908b3ec",
   "metadata": {},
   "outputs": [
    {
     "data": {
      "text/html": [
       "<div>\n",
       "<style scoped>\n",
       "    .dataframe tbody tr th:only-of-type {\n",
       "        vertical-align: middle;\n",
       "    }\n",
       "\n",
       "    .dataframe tbody tr th {\n",
       "        vertical-align: top;\n",
       "    }\n",
       "\n",
       "    .dataframe thead th {\n",
       "        text-align: right;\n",
       "    }\n",
       "</style>\n",
       "<table border=\"1\" class=\"dataframe\">\n",
       "  <thead>\n",
       "    <tr style=\"text-align: right;\">\n",
       "      <th>Product</th>\n",
       "      <th>KP281</th>\n",
       "      <th>KP481</th>\n",
       "      <th>KP781</th>\n",
       "      <th>All</th>\n",
       "    </tr>\n",
       "    <tr>\n",
       "      <th>MaritalStatus</th>\n",
       "      <th></th>\n",
       "      <th></th>\n",
       "      <th></th>\n",
       "      <th></th>\n",
       "    </tr>\n",
       "  </thead>\n",
       "  <tbody>\n",
       "    <tr>\n",
       "      <th>Partnered</th>\n",
       "      <td>29.813665</td>\n",
       "      <td>22.360248</td>\n",
       "      <td>6.211180</td>\n",
       "      <td>58.385093</td>\n",
       "    </tr>\n",
       "    <tr>\n",
       "      <th>Single</th>\n",
       "      <td>19.875776</td>\n",
       "      <td>14.906832</td>\n",
       "      <td>6.832298</td>\n",
       "      <td>41.614907</td>\n",
       "    </tr>\n",
       "    <tr>\n",
       "      <th>All</th>\n",
       "      <td>49.689441</td>\n",
       "      <td>37.267081</td>\n",
       "      <td>13.043478</td>\n",
       "      <td>100.000000</td>\n",
       "    </tr>\n",
       "  </tbody>\n",
       "</table>\n",
       "</div>"
      ],
      "text/plain": [
       "Product            KP281      KP481      KP781         All\n",
       "MaritalStatus                                             \n",
       "Partnered      29.813665  22.360248   6.211180   58.385093\n",
       "Single         19.875776  14.906832   6.832298   41.614907\n",
       "All            49.689441  37.267081  13.043478  100.000000"
      ]
     },
     "execution_count": 47,
     "metadata": {},
     "output_type": "execute_result"
    }
   ],
   "source": [
    "pd.crosstab(index=df['MaritalStatus'],columns=df['Product'],margins=True, normalize = True)*100"
   ]
  },
  {
   "cell_type": "markdown",
   "id": "13a7091e",
   "metadata": {},
   "source": [
    "><li>Partnered consumers have the highest amount of purchase and they mostly prefer the entry level model"
   ]
  },
  {
   "cell_type": "markdown",
   "id": "c8bead1f",
   "metadata": {},
   "source": [
    "### Conditional Probability"
   ]
  },
  {
   "cell_type": "markdown",
   "id": "e8f4c61b",
   "metadata": {},
   "source": [
    "Checking conditional probability of key indicators"
   ]
  },
  {
   "cell_type": "markdown",
   "id": "a4ed431d",
   "metadata": {},
   "source": [
    "<b><u>Product vs Age"
   ]
  },
  {
   "cell_type": "code",
   "execution_count": 48,
   "id": "a8ae352b",
   "metadata": {},
   "outputs": [
    {
     "data": {
      "text/plain": [
       "Product        \n",
       "KP281    20-30      61.250000\n",
       "         30-40      23.750000\n",
       "         0-20        7.500000\n",
       "         40-50       7.500000\n",
       "         50-70       0.000000\n",
       "         70-100      0.000000\n",
       "KP481    20-30      51.666667\n",
       "         30-40      38.333333\n",
       "         0-20        6.666667\n",
       "         40-50       3.333333\n",
       "         50-70       0.000000\n",
       "         70-100      0.000000\n",
       "KP781    20-30     100.000000\n",
       "         0-20        0.000000\n",
       "         30-40       0.000000\n",
       "         40-50       0.000000\n",
       "         50-70       0.000000\n",
       "         70-100      0.000000\n",
       "Name: age_bins, dtype: float64"
      ]
     },
     "execution_count": 48,
     "metadata": {},
     "output_type": "execute_result"
    }
   ],
   "source": [
    "df.groupby(['Product'])['age_bins'].value_counts()/df.groupby('Product')['age_bins'].count()*100"
   ]
  },
  {
   "cell_type": "markdown",
   "id": "2132305f",
   "metadata": {},
   "source": [
    "> <li>The probability of a purchase is very high if the consumer is between age 20-30, and sees a steady decline after 40<br><li>Advanced models are only purchased by consumers between age 20 and 30<br><li>No purchases are made by consumers above age 50"
   ]
  },
  {
   "cell_type": "markdown",
   "id": "a6a294d0",
   "metadata": {},
   "source": [
    "<b><u>Product vs Income"
   ]
  },
  {
   "cell_type": "markdown",
   "id": "64588716",
   "metadata": {},
   "source": [
    "<tt><font size = 4><font color =  blue>PRODUCT 1 : <b>KP281"
   ]
  },
  {
   "cell_type": "code",
   "execution_count": 49,
   "id": "7a22d2fe",
   "metadata": {},
   "outputs": [
    {
     "data": {
      "text/plain": [
       "Product         \n",
       "KP281    50k-60k    32.50\n",
       "         40k-50k    31.25\n",
       "         29k-40k    28.75\n",
       "         60k-70k     7.50\n",
       "         70k-80k     0.00\n",
       "Name: income_bins, dtype: float64"
      ]
     },
     "execution_count": 49,
     "metadata": {},
     "output_type": "execute_result"
    }
   ],
   "source": [
    "df[df.Product == 'KP281'].groupby(['Product'])['income_bins'].value_counts()/df.groupby('Product')['income_bins'].count()*100"
   ]
  },
  {
   "cell_type": "markdown",
   "id": "58e987c2",
   "metadata": {},
   "source": [
    "<tt><font color = gray>32% of consumers between 50k-60k,31% of consumers between 40k-50k and 28% of consumers between 29k-40k have purchased KP281"
   ]
  },
  {
   "cell_type": "markdown",
   "id": "f1f0993e",
   "metadata": {},
   "source": [
    "><li>This seems to be considered as the best value product as probability of purchase is high for consumers with income between 29k and 60k<li>However people with higher income seems to mostly avoid the low end model "
   ]
  },
  {
   "cell_type": "markdown",
   "id": "87c626f7",
   "metadata": {},
   "source": [
    "<tt><font size = 4><font color =  blue>PRODUCT 2 : <b>KP481"
   ]
  },
  {
   "cell_type": "code",
   "execution_count": 50,
   "id": "ec9b91a0",
   "metadata": {},
   "outputs": [
    {
     "data": {
      "text/plain": [
       "Product         \n",
       "KP481    50k-60k    38.333333\n",
       "         40k-50k    35.000000\n",
       "         29k-40k    15.000000\n",
       "         60k-70k    11.666667\n",
       "         70k-80k     0.000000\n",
       "Name: income_bins, dtype: float64"
      ]
     },
     "execution_count": 50,
     "metadata": {},
     "output_type": "execute_result"
    }
   ],
   "source": [
    "df[df.Product == 'KP481'].groupby(['Product'])['income_bins'].value_counts()/df.groupby('Product')['income_bins'].count()*100"
   ]
  },
  {
   "cell_type": "markdown",
   "id": "02f91e91",
   "metadata": {},
   "source": [
    "<tt><font color = gray>38% of consumers between 50k-60k,35% of consumers between 40k-50k and 15% of consumers between 29k-40k have purchased KP481"
   ]
  },
  {
   "cell_type": "markdown",
   "id": "2ad05944",
   "metadata": {},
   "source": [
    "><li>Probability of purchase is  high for consumers with income between 40k and 60k<li>This mid level product is preferred by mid tier consumers, but the top tier consumers do not seem to prefer this"
   ]
  },
  {
   "cell_type": "markdown",
   "id": "cdb7cf69",
   "metadata": {},
   "source": [
    "<tt><font size = 4><font color =  blue>PRODUCT 3 : <b>KP781"
   ]
  },
  {
   "cell_type": "code",
   "execution_count": 51,
   "id": "84282cd1",
   "metadata": {},
   "outputs": [
    {
     "data": {
      "text/plain": [
       "Product         \n",
       "KP781    50k-60k    28.571429\n",
       "         60k-70k    28.571429\n",
       "         40k-50k    23.809524\n",
       "         70k-80k    19.047619\n",
       "         29k-40k     0.000000\n",
       "Name: income_bins, dtype: float64"
      ]
     },
     "execution_count": 51,
     "metadata": {},
     "output_type": "execute_result"
    }
   ],
   "source": [
    "df[df.Product == 'KP781'].groupby(['Product'])['income_bins'].value_counts()/df.groupby('Product')['income_bins'].count()*100"
   ]
  },
  {
   "cell_type": "markdown",
   "id": "f5ae5731",
   "metadata": {},
   "source": [
    "<tt><font color = gray>28% of consumers between 50k-60k,28% of consumers between 60k-70k and 23% of consumers between 40k-50k have purchased KP781"
   ]
  },
  {
   "cell_type": "markdown",
   "id": "a11743f4",
   "metadata": {},
   "source": [
    "><li>Probability of purchase of this advanced version is high for the consumers between the income range 50k to 70k<li>Definetly not preferrend by low income consumers"
   ]
  },
  {
   "cell_type": "markdown",
   "id": "122bcf03",
   "metadata": {},
   "source": [
    "<b><u>Product vs Marital Status"
   ]
  },
  {
   "cell_type": "code",
   "execution_count": 52,
   "id": "30adee66",
   "metadata": {},
   "outputs": [
    {
     "data": {
      "text/plain": [
       "Product  MaritalStatus\n",
       "KP281    Partnered        60.000000\n",
       "         Single           40.000000\n",
       "KP481    Partnered        60.000000\n",
       "         Single           40.000000\n",
       "KP781    Single           52.380952\n",
       "         Partnered        47.619048\n",
       "Name: MaritalStatus, dtype: float64"
      ]
     },
     "execution_count": 52,
     "metadata": {},
     "output_type": "execute_result"
    }
   ],
   "source": [
    "df.groupby(['Product'])['MaritalStatus'].value_counts()/df.groupby('Product')['MaritalStatus'].count()*100"
   ]
  },
  {
   "cell_type": "markdown",
   "id": "2c3bbcf6",
   "metadata": {},
   "source": [
    "><li>Clearly evident that the probability of a consumer is the highest when he/she is not single"
   ]
  },
  {
   "cell_type": "markdown",
   "id": "73f32ddc",
   "metadata": {},
   "source": [
    "<b><u>Product vs Fitness Rating"
   ]
  },
  {
   "cell_type": "code",
   "execution_count": 53,
   "id": "0aa5754b",
   "metadata": {
    "scrolled": true
   },
   "outputs": [
    {
     "data": {
      "text/plain": [
       "Product  Fitness\n",
       "KP281    3          67.500000\n",
       "         2          17.500000\n",
       "         4          11.250000\n",
       "         5           2.500000\n",
       "         1           1.250000\n",
       "KP481    3          65.000000\n",
       "         2          20.000000\n",
       "         4          13.333333\n",
       "         1           1.666667\n",
       "KP781    5          66.666667\n",
       "         4          19.047619\n",
       "         3          14.285714\n",
       "Name: Fitness, dtype: float64"
      ]
     },
     "execution_count": 53,
     "metadata": {},
     "output_type": "execute_result"
    }
   ],
   "source": [
    "df.groupby(['Product'])['Fitness'].value_counts()/df.groupby('Product')['Fitness'].count()*100"
   ]
  },
  {
   "cell_type": "markdown",
   "id": "07fd4798",
   "metadata": {},
   "source": [
    "><li>People who have higher fitness rating and think they are adequately fit has a higher probabaility on purchasing the advanced model<li>People who think they have an average level of fitness tend to start with the entry level or mid level model"
   ]
  },
  {
   "cell_type": "markdown",
   "id": "1fcbe82e",
   "metadata": {},
   "source": [
    "  ## 5.<u>Customer Profiling"
   ]
  },
  {
   "cell_type": "markdown",
   "id": "015a4fc9",
   "metadata": {},
   "source": [
    "Based on all the analysis done above, we can categorize the consumers to 3 key profiles:"
   ]
  },
  {
   "cell_type": "markdown",
   "id": "53d43415",
   "metadata": {},
   "source": [
    "1. <b>High income, young and educated consumers:</b><br>    Highest chance of a purchase, especially the advanced model\n",
    "    \n",
    "    \n",
    "2. <b>Partnered Consumers</b><br>    Probability of a purchase shoots up as a person gets a partner\n",
    "\n",
    "\n",
    "3. <b>Entry level consumers</b><br>    Majority of the consumers fall in this category. Thier fitness rating is around 3 to 4 and they often prefer the entry level model"
   ]
  },
  {
   "cell_type": "markdown",
   "id": "bb6325be",
   "metadata": {},
   "source": [
    "  ## 6.<u>Recommendations"
   ]
  },
  {
   "cell_type": "markdown",
   "id": "59a3aa00",
   "metadata": {},
   "source": [
    "<li>Obtaining a fitness rating from a customer through a survey can help identify the model that they would most likely purchase. Higher the fitness rating the higher they might spend.<br><br>\n",
    "\n",
    "\n",
    "<li>Introducing a new model that sits between the mid level and advanced level model could attract a lot of consumers. The advanced model can be pitched to consumers between age 20-30, and that can be used as an anchor to sell this newly introduced model. <br><br>\n",
    "\n",
    "<li> Special offers or coupons can be provided to partnered consumers in order to upsell the mid level and advanced level models. A referal bonus could also boost sales among this category of consumers.<br><br>\n",
    "\n",
    "<li>Discounts for females on the advanced models.<br><br>\n",
    "    \n",
    "<li>Entry level consumers can be given discounts to motivate them to upgrade to a newer model.\n"
   ]
  }
 ],
 "metadata": {
  "kernelspec": {
   "display_name": "Python 3 (ipykernel)",
   "language": "python",
   "name": "python3"
  },
  "language_info": {
   "codemirror_mode": {
    "name": "ipython",
    "version": 3
   },
   "file_extension": ".py",
   "mimetype": "text/x-python",
   "name": "python",
   "nbconvert_exporter": "python",
   "pygments_lexer": "ipython3",
   "version": "3.9.7"
  }
 },
 "nbformat": 4,
 "nbformat_minor": 5
}
